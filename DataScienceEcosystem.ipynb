{
 "cells": [
  {
   "cell_type": "markdown",
   "metadata": {},
   "source": [
    "Exercise 2: Coursera Notebook of Notebooks"
   ]
  },
  {
   "cell_type": "markdown",
   "metadata": {},
   "source": [
    "Exercise 3: My name is Troy and I'm working on this certification course"
   ]
  },
  {
   "cell_type": "markdown",
   "metadata": {},
   "source": [
    "Exercise 4:  Some of the more common languages include R, Python, Java, and SQL.   There's a few languages also used like C++, but these are more used for engine development or application development"
   ]
  },
  {
   "cell_type": "markdown",
   "metadata": {},
   "source": [
    "Exercise 5:  Some of the most common ones in Python are Pandas for database handling, Beutiful Soup for web scrapping, Pytorch for modeling, Scikit Learn for statistics and simple models, etc."
   ]
  },
  {
   "cell_type": "markdown",
   "metadata": {},
   "source": [
    "Exercise 6:\n",
    "\n",
    "| Data Science Tools     |\n",
    "| -------------  |\n",
    "|  Python |\n",
    "|  R |\n",
    "|  SQL |\n",
    "|  Pytorch |\n",
    "|  Pandas |\n",
    "|  Scikit-Learn |\n",
    "|  Matplotlib |\n"
   ]
  },
  {
   "cell_type": "markdown",
   "metadata": {},
   "source": [
    "Exercise 7:\n",
    "Here's a linear equation\n",
    "$\\hat{Y} = \\hat{\\beta_{0}} + \\sum_{j=1}^{N} X_{j} \\hat{\\beta_{j}}$"
   ]
  },
  {
   "cell_type": "markdown",
   "metadata": {},
   "source": []
  },
  {
   "cell_type": "code",
   "execution_count": 1,
   "metadata": {},
   "outputs": [
    {
     "name": "stdout",
     "output_type": "stream",
     "text": [
      "3\n",
      "2\n"
     ]
    }
   ],
   "source": [
    "# Exercise 8\n",
    "x = 1\n",
    "y = 2\n",
    "\n",
    "z = x + y\n",
    "z2 = x*y\n",
    "\n",
    "print(z)\n",
    "print(z2)"
   ]
  },
  {
   "cell_type": "code",
   "execution_count": 6,
   "metadata": {},
   "outputs": [
    {
     "name": "stdout",
     "output_type": "stream",
     "text": [
      "200\n",
      "Hours: 3\n",
      "Minutes: 20\n"
     ]
    }
   ],
   "source": [
    "#Exercise 9\n",
    "minutes = 200\n",
    "hours = minutes // 60\n",
    "remain_minutes = minutes % 60\n",
    "\n",
    "print(minutes)\n",
    "print(\"Hours:\", hours)\n",
    "print(\"Minutes:\", remain_minutes)"
   ]
  },
  {
   "cell_type": "markdown",
   "metadata": {},
   "source": [
    "Exercise 10 \n",
    "<b>Objectives</b>\n",
    "- List popular packages for Data Science\n",
    "- Show basic python usage in Jupiter Notebook\n",
    "- Show things you can do with markdown\n",
    "- Do fancy stuff.\n"
   ]
  },
  {
   "cell_type": "markdown",
   "metadata": {},
   "source": [
    "Exercise 11\n",
    "<h2>Author</h2>\n",
    "Troy"
   ]
  },
  {
   "cell_type": "markdown",
   "metadata": {},
   "source": []
  }
 ],
 "metadata": {
  "kernelspec": {
   "display_name": "Python 3",
   "language": "python",
   "name": "python3"
  },
  "language_info": {
   "codemirror_mode": {
    "name": "ipython",
    "version": 3
   },
   "file_extension": ".py",
   "mimetype": "text/x-python",
   "name": "python",
   "nbconvert_exporter": "python",
   "pygments_lexer": "ipython3",
   "version": "3.12.6"
  }
 },
 "nbformat": 4,
 "nbformat_minor": 2
}
